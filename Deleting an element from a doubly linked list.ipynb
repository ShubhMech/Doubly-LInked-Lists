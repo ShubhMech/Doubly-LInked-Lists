{
 "cells": [
  {
   "cell_type": "markdown",
   "id": "0456755f-105f-414d-8ede-6a3dcfe12aeb",
   "metadata": {},
   "source": [
    "### Deletion of a node in the Doubly Linked List"
   ]
  },
  {
   "cell_type": "code",
   "execution_count": 19,
   "id": "dba25d7d-2f21-44c3-827f-4bd384ca6eed",
   "metadata": {},
   "outputs": [],
   "source": [
    "class Nodes:\n",
    "    def __init__(self,value):\n",
    "        self.value=value\n",
    "        self.next=None\n",
    "        self.prev=None\n",
    "        \n",
    "\n",
    "class DoublyLinkedList:\n",
    "    def __init__(self):\n",
    "        self.head=None\n",
    "        self.tail=None\n",
    "        \n",
    "    \n",
    "        \n",
    "def create_list(ob,value):\n",
    "    node=Nodes(value)\n",
    "    ob.head=node\n",
    "    ob.tail=node\n",
    "        \n",
    "\n",
    "def insert(ob,value,loc):\n",
    "    node=Nodes(value)\n",
    "    if ob.head==None:\n",
    "        \n",
    "        ob.head=node\n",
    "        ob.tail=node\n",
    "    else:\n",
    "        if loc==0:\n",
    "            ob.head.prev=node\n",
    "            temp=ob.head\n",
    "            node.next=temp\n",
    "            \n",
    "#             node.next=temp\n",
    "            ob.head=node\n",
    "            \n",
    "        elif loc==-1:\n",
    "            \n",
    "            ob.tail.next=node\n",
    "            node.prev=ob.tail\n",
    "            ob.tail=node\n",
    "        \n",
    "        else:\n",
    "            temp=ob.head\n",
    "            i=0\n",
    "            while(i<loc-1):\n",
    "                temp=temp.next\n",
    "                i += 1\n",
    "            t=temp.prev   \n",
    "            t.next=node\n",
    "            node.prev=t\n",
    "            node.next=temp\n",
    "            temp.prev=node\n",
    "                \n",
    "                \n",
    "ob1=DoublyLinkedList()\n",
    "create_list(ob1,5)\n",
    "ob1.head.value\n",
    "ob1.head.next\n",
    "ob1.head.prev\n",
    "\n",
    "\n",
    "ob1.head.next\n",
    "ob1.head.prev\n",
    "ob1.head.value\n",
    "# ob1.head.next.value\n",
    "# ob1.head.next.prev.value\n",
    "\n",
    "insert(ob1,0,0)\n",
    "insert(ob1,10,-1)\n",
    "insert(ob1,100,2)\n",
    "insert(ob1,1000,2)\n",
    "insert(ob1,10000,3)\n",
    "insert(ob1,10000,3)\n",
    "insert(ob1,1111,2)"
   ]
  },
  {
   "cell_type": "code",
   "execution_count": 20,
   "id": "44797a25-c276-4c30-9bbc-eeb5b9e14200",
   "metadata": {},
   "outputs": [],
   "source": [
    "def traversal(ob1):\n",
    "#     temp=ob1.head\n",
    "    if ob1.head==None:\n",
    "        print(\"No elements in the list!\")\n",
    "#     elif: ob1\n",
    "            \n",
    "    else:\n",
    "        print(\"The first node is: \", ob1.head)\n",
    "        print(\"The value at this node is\", ob1.head.value)\n",
    "        temp=ob1.head.next\n",
    "        while(True):\n",
    "            \n",
    "            if temp != ob1.head:\n",
    "                print(\"The next node in the list is: \", temp)\n",
    "                if temp==None:\n",
    "                    break\n",
    "                print(\"And the value of the node at given position is: \", temp.value)\n",
    "            \n",
    "            else:\n",
    "                break\n",
    "\n",
    "            \n",
    "            \n",
    "            temp=temp.next"
   ]
  },
  {
   "cell_type": "code",
   "execution_count": 21,
   "id": "e0c3faf1-ab43-4971-86a5-40110effae99",
   "metadata": {},
   "outputs": [
    {
     "name": "stdout",
     "output_type": "stream",
     "text": [
      "The first node is:  <__main__.Nodes object at 0x000001E10F604A00>\n",
      "The value at this node is 0\n",
      "The next node in the list is:  <__main__.Nodes object at 0x000001E10F604370>\n",
      "And the value of the node at given position is:  1111\n",
      "The next node in the list is:  <__main__.Nodes object at 0x000001E10F6041F0>\n",
      "And the value of the node at given position is:  1000\n",
      "The next node in the list is:  <__main__.Nodes object at 0x000001E10F604F10>\n",
      "And the value of the node at given position is:  10000\n",
      "The next node in the list is:  <__main__.Nodes object at 0x000001E10F6046D0>\n",
      "And the value of the node at given position is:  10000\n",
      "The next node in the list is:  <__main__.Nodes object at 0x000001E10F604160>\n",
      "And the value of the node at given position is:  100\n",
      "The next node in the list is:  <__main__.Nodes object at 0x000001E10F6042B0>\n",
      "And the value of the node at given position is:  5\n",
      "The next node in the list is:  <__main__.Nodes object at 0x000001E10F604040>\n",
      "And the value of the node at given position is:  10\n",
      "The next node in the list is:  None\n"
     ]
    }
   ],
   "source": [
    "traversal(ob1)"
   ]
  },
  {
   "cell_type": "code",
   "execution_count": 22,
   "id": "6db221d0-604e-4b0b-8a0c-663a5108372a",
   "metadata": {},
   "outputs": [],
   "source": [
    "def delete(ob1, value):\n",
    "    if ob1.head==None:\n",
    "        print(\"Can't delete, not enough elemnts in the list :)\")\n",
    "    \n",
    "    else:\n",
    "        temp=ob1.head\n",
    "        if temp.value==value:\n",
    "            ob.head= temp.next\n",
    "            ob.head.prev=None\n",
    "            \n",
    "            print(\"Found the element at the first position\")\n",
    "            \n",
    "        else:\n",
    "            while True:\n",
    "                temp= temp.next\n",
    "                if temp.value==value:\n",
    "                    \n",
    "                    print(\"Found the element and the node is: \", temp)\n",
    "                    \n",
    "                    if temp.next==None:\n",
    "                        ob1.tail=temp.prev\n",
    "                        temp.prev.next=temp.next\n",
    "                    else:\n",
    "                        temp.prev.next=temp.next\n",
    "                        temp.next.prev=temp.prev\n",
    "                    \n",
    "                        \n",
    "                    \n",
    "                    break\n",
    "                \n",
    "                if temp.next==None:\n",
    "                    print(\"Couldn't find the element\")\n",
    "                    break\n"
   ]
  },
  {
   "cell_type": "code",
   "execution_count": 23,
   "id": "0abbed13-f507-4a99-8e53-3ce79087e673",
   "metadata": {},
   "outputs": [
    {
     "name": "stdout",
     "output_type": "stream",
     "text": [
      "Found the element and the node is:  <__main__.Nodes object at 0x000001E10F604370>\n"
     ]
    }
   ],
   "source": [
    "delete(ob1,1111)"
   ]
  },
  {
   "cell_type": "code",
   "execution_count": 24,
   "id": "4cf5e64a-58ca-491f-9e7e-e06337757454",
   "metadata": {},
   "outputs": [
    {
     "name": "stdout",
     "output_type": "stream",
     "text": [
      "The first node is:  <__main__.Nodes object at 0x000001E10F604A00>\n",
      "The value at this node is 0\n",
      "The next node in the list is:  <__main__.Nodes object at 0x000001E10F6041F0>\n",
      "And the value of the node at given position is:  1000\n",
      "The next node in the list is:  <__main__.Nodes object at 0x000001E10F604F10>\n",
      "And the value of the node at given position is:  10000\n",
      "The next node in the list is:  <__main__.Nodes object at 0x000001E10F6046D0>\n",
      "And the value of the node at given position is:  10000\n",
      "The next node in the list is:  <__main__.Nodes object at 0x000001E10F604160>\n",
      "And the value of the node at given position is:  100\n",
      "The next node in the list is:  <__main__.Nodes object at 0x000001E10F6042B0>\n",
      "And the value of the node at given position is:  5\n",
      "The next node in the list is:  <__main__.Nodes object at 0x000001E10F604040>\n",
      "And the value of the node at given position is:  10\n",
      "The next node in the list is:  None\n"
     ]
    }
   ],
   "source": [
    "traversal(ob1)"
   ]
  },
  {
   "cell_type": "code",
   "execution_count": 25,
   "id": "019de198-d336-4eed-8874-ad877e189f7f",
   "metadata": {},
   "outputs": [],
   "source": [
    "insert(ob1,1111,5)"
   ]
  },
  {
   "cell_type": "code",
   "execution_count": 26,
   "id": "732f7857-b9c0-4898-a872-9830e2e5cf48",
   "metadata": {},
   "outputs": [
    {
     "name": "stdout",
     "output_type": "stream",
     "text": [
      "The first node is:  <__main__.Nodes object at 0x000001E10F604A00>\n",
      "The value at this node is 0\n",
      "The next node in the list is:  <__main__.Nodes object at 0x000001E10F6041F0>\n",
      "And the value of the node at given position is:  1000\n",
      "The next node in the list is:  <__main__.Nodes object at 0x000001E10F604F10>\n",
      "And the value of the node at given position is:  10000\n",
      "The next node in the list is:  <__main__.Nodes object at 0x000001E10F6046D0>\n",
      "And the value of the node at given position is:  10000\n",
      "The next node in the list is:  <__main__.Nodes object at 0x000001E10F6191F0>\n",
      "And the value of the node at given position is:  1111\n",
      "The next node in the list is:  <__main__.Nodes object at 0x000001E10F604160>\n",
      "And the value of the node at given position is:  100\n",
      "The next node in the list is:  <__main__.Nodes object at 0x000001E10F6042B0>\n",
      "And the value of the node at given position is:  5\n",
      "The next node in the list is:  <__main__.Nodes object at 0x000001E10F604040>\n",
      "And the value of the node at given position is:  10\n",
      "The next node in the list is:  None\n"
     ]
    }
   ],
   "source": [
    "traversal(ob1)"
   ]
  },
  {
   "cell_type": "code",
   "execution_count": 27,
   "id": "cd4d333e-04cb-4c6d-ac49-1066d7a464c9",
   "metadata": {},
   "outputs": [
    {
     "name": "stdout",
     "output_type": "stream",
     "text": [
      "Found the element and the node is:  <__main__.Nodes object at 0x000001E10F6191F0>\n"
     ]
    }
   ],
   "source": [
    "delete(ob1,1111)"
   ]
  },
  {
   "cell_type": "code",
   "execution_count": 28,
   "id": "64419f47-934a-45b2-b17e-493571795641",
   "metadata": {},
   "outputs": [
    {
     "name": "stdout",
     "output_type": "stream",
     "text": [
      "The first node is:  <__main__.Nodes object at 0x000001E10F604A00>\n",
      "The value at this node is 0\n",
      "The next node in the list is:  <__main__.Nodes object at 0x000001E10F6041F0>\n",
      "And the value of the node at given position is:  1000\n",
      "The next node in the list is:  <__main__.Nodes object at 0x000001E10F604F10>\n",
      "And the value of the node at given position is:  10000\n",
      "The next node in the list is:  <__main__.Nodes object at 0x000001E10F6046D0>\n",
      "And the value of the node at given position is:  10000\n",
      "The next node in the list is:  <__main__.Nodes object at 0x000001E10F604160>\n",
      "And the value of the node at given position is:  100\n",
      "The next node in the list is:  <__main__.Nodes object at 0x000001E10F6042B0>\n",
      "And the value of the node at given position is:  5\n",
      "The next node in the list is:  <__main__.Nodes object at 0x000001E10F604040>\n",
      "And the value of the node at given position is:  10\n",
      "The next node in the list is:  None\n"
     ]
    }
   ],
   "source": [
    "traversal(ob1)"
   ]
  },
  {
   "cell_type": "code",
   "execution_count": 29,
   "id": "0eba4fb9-c051-4179-88c3-8aac806d8b0b",
   "metadata": {},
   "outputs": [],
   "source": [
    "insert(ob1,1111,-1)"
   ]
  },
  {
   "cell_type": "code",
   "execution_count": 30,
   "id": "6d7ef9a3-12e8-4767-86e1-421488953b70",
   "metadata": {},
   "outputs": [
    {
     "name": "stdout",
     "output_type": "stream",
     "text": [
      "The first node is:  <__main__.Nodes object at 0x000001E10F604A00>\n",
      "The value at this node is 0\n",
      "The next node in the list is:  <__main__.Nodes object at 0x000001E10F6041F0>\n",
      "And the value of the node at given position is:  1000\n",
      "The next node in the list is:  <__main__.Nodes object at 0x000001E10F604F10>\n",
      "And the value of the node at given position is:  10000\n",
      "The next node in the list is:  <__main__.Nodes object at 0x000001E10F6046D0>\n",
      "And the value of the node at given position is:  10000\n",
      "The next node in the list is:  <__main__.Nodes object at 0x000001E10F604160>\n",
      "And the value of the node at given position is:  100\n",
      "The next node in the list is:  <__main__.Nodes object at 0x000001E10F6042B0>\n",
      "And the value of the node at given position is:  5\n",
      "The next node in the list is:  <__main__.Nodes object at 0x000001E10F604040>\n",
      "And the value of the node at given position is:  10\n",
      "The next node in the list is:  <__main__.Nodes object at 0x000001E10F6190D0>\n",
      "And the value of the node at given position is:  1111\n",
      "The next node in the list is:  None\n"
     ]
    }
   ],
   "source": [
    "traversal(ob1)"
   ]
  },
  {
   "cell_type": "code",
   "execution_count": 31,
   "id": "f7da8c3f-6b9f-492f-a863-06b7335ff4c1",
   "metadata": {},
   "outputs": [
    {
     "name": "stdout",
     "output_type": "stream",
     "text": [
      "Found the element and the node is:  <__main__.Nodes object at 0x000001E10F6190D0>\n"
     ]
    }
   ],
   "source": [
    "delete(ob1,1111)"
   ]
  },
  {
   "cell_type": "code",
   "execution_count": 32,
   "id": "a6ca732a-6e7d-4215-a0f7-591bd7e057d1",
   "metadata": {},
   "outputs": [
    {
     "name": "stdout",
     "output_type": "stream",
     "text": [
      "The first node is:  <__main__.Nodes object at 0x000001E10F604A00>\n",
      "The value at this node is 0\n",
      "The next node in the list is:  <__main__.Nodes object at 0x000001E10F6041F0>\n",
      "And the value of the node at given position is:  1000\n",
      "The next node in the list is:  <__main__.Nodes object at 0x000001E10F604F10>\n",
      "And the value of the node at given position is:  10000\n",
      "The next node in the list is:  <__main__.Nodes object at 0x000001E10F6046D0>\n",
      "And the value of the node at given position is:  10000\n",
      "The next node in the list is:  <__main__.Nodes object at 0x000001E10F604160>\n",
      "And the value of the node at given position is:  100\n",
      "The next node in the list is:  <__main__.Nodes object at 0x000001E10F6042B0>\n",
      "And the value of the node at given position is:  5\n",
      "The next node in the list is:  <__main__.Nodes object at 0x000001E10F604040>\n",
      "And the value of the node at given position is:  10\n",
      "The next node in the list is:  None\n"
     ]
    }
   ],
   "source": [
    "traversal(ob1)"
   ]
  },
  {
   "cell_type": "code",
   "execution_count": null,
   "id": "3ab18940-b418-48e3-94b4-77a52b23c9b5",
   "metadata": {},
   "outputs": [],
   "source": []
  }
 ],
 "metadata": {
  "kernelspec": {
   "display_name": "Python 3",
   "language": "python",
   "name": "python3"
  },
  "language_info": {
   "codemirror_mode": {
    "name": "ipython",
    "version": 3
   },
   "file_extension": ".py",
   "mimetype": "text/x-python",
   "name": "python",
   "nbconvert_exporter": "python",
   "pygments_lexer": "ipython3",
   "version": "3.8.5"
  }
 },
 "nbformat": 4,
 "nbformat_minor": 5
}
