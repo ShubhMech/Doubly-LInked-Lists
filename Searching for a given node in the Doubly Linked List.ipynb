{
 "cells": [
  {
   "cell_type": "code",
   "execution_count": 1,
   "id": "cdb5055a-e508-4f92-a409-6e05f2abbc84",
   "metadata": {},
   "outputs": [],
   "source": [
    "class Nodes:\n",
    "    def __init__(self,value):\n",
    "        self.value=value\n",
    "        self.next=None\n",
    "        self.prev=None\n",
    "        \n",
    "\n",
    "class DoublyLinkedList:\n",
    "    def __init__(self):\n",
    "        self.head=None\n",
    "        self.tail=None\n",
    "        \n",
    "    \n",
    "        \n",
    "def create_list(ob,value):\n",
    "    node=Nodes(value)\n",
    "    ob.head=node\n",
    "    ob.tail=node\n",
    "        \n",
    "\n",
    "def insert(ob,value,loc):\n",
    "    node=Nodes(value)\n",
    "    if ob.head==None:\n",
    "        \n",
    "        ob.head=node\n",
    "        ob.tail=node\n",
    "    else:\n",
    "        if loc==0:\n",
    "            ob.head.prev=node\n",
    "            temp=ob.head\n",
    "            node.next=temp\n",
    "            \n",
    "#             node.next=temp\n",
    "            ob.head=node\n",
    "            \n",
    "        elif loc==-1:\n",
    "            \n",
    "            ob.tail.next=node\n",
    "            node.prev=ob.tail\n",
    "            ob.tail=node\n",
    "        \n",
    "        else:\n",
    "            temp=ob.head\n",
    "            i=0\n",
    "            while(i<loc-1):\n",
    "                temp=temp.next\n",
    "                i += 1\n",
    "            t=temp.prev   \n",
    "            t.next=node\n",
    "            node.prev=t\n",
    "            node.next=temp\n",
    "            temp.prev=node\n",
    "                \n",
    "                \n",
    "ob1=DoublyLinkedList()\n",
    "create_list(ob1,5)\n",
    "ob1.head.value\n",
    "ob1.head.next\n",
    "ob1.head.prev\n",
    "\n",
    "\n",
    "ob1.head.next\n",
    "ob1.head.prev\n",
    "ob1.head.value\n",
    "# ob1.head.next.value\n",
    "# ob1.head.next.prev.value\n",
    "\n",
    "insert(ob1,0,0)\n",
    "insert(ob1,10,-1)\n",
    "insert(ob1,100,2)\n",
    "insert(ob1,1000,2)\n",
    "insert(ob1,10000,3)\n",
    "insert(ob1,10000,3)"
   ]
  },
  {
   "cell_type": "code",
   "execution_count": 10,
   "id": "20c1136f-ef3b-4bdb-8487-7303d66bba73",
   "metadata": {},
   "outputs": [],
   "source": [
    "def search(ob1, value):\n",
    "    if ob1.head==None:\n",
    "        print(\"Can't search, not enough elemnts in the list :/\")\n",
    "    \n",
    "    else:\n",
    "        temp=ob1.head\n",
    "        if temp.value==value:\n",
    "            print(\"Found the element at the first position and the node is: \", temp)\n",
    "            \n",
    "        else:\n",
    "            while True:\n",
    "                temp= temp.next\n",
    "                if temp.value==value:\n",
    "                    print(\"Found the element and the node is: \", temp)\n",
    "                    break\n",
    "                \n",
    "                if temp.next==None:\n",
    "                    print(\"Couldn't find the element\")\n",
    "                    break"
   ]
  },
  {
   "cell_type": "code",
   "execution_count": null,
   "id": "4542b73f-3afe-4fe9-a6ca-0415e39222a4",
   "metadata": {},
   "outputs": [],
   "source": []
  },
  {
   "cell_type": "code",
   "execution_count": 14,
   "id": "96739a55-e734-4a12-a2a7-fe97b4431574",
   "metadata": {},
   "outputs": [
    {
     "name": "stdout",
     "output_type": "stream",
     "text": [
      "Found the element and the node is:  <__main__.Nodes object at 0x00000223DC3D5FD0>\n"
     ]
    }
   ],
   "source": [
    "search(ob1,1000\n",
    "      )"
   ]
  },
  {
   "cell_type": "code",
   "execution_count": null,
   "id": "5c5e746b-8727-407c-8091-bc7225bbba53",
   "metadata": {},
   "outputs": [],
   "source": []
  }
 ],
 "metadata": {
  "kernelspec": {
   "display_name": "Python 3",
   "language": "python",
   "name": "python3"
  },
  "language_info": {
   "codemirror_mode": {
    "name": "ipython",
    "version": 3
   },
   "file_extension": ".py",
   "mimetype": "text/x-python",
   "name": "python",
   "nbconvert_exporter": "python",
   "pygments_lexer": "ipython3",
   "version": "3.8.5"
  }
 },
 "nbformat": 4,
 "nbformat_minor": 5
}
