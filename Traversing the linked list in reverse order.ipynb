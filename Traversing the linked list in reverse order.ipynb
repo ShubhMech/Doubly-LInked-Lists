{
 "cells": [
  {
   "cell_type": "markdown",
   "id": "f5d6315a-bfa3-4446-a67c-b8a921716b96",
   "metadata": {},
   "source": [
    "### Code for reverse traversal of a doubly linked list:"
   ]
  },
  {
   "cell_type": "code",
   "execution_count": 5,
   "id": "41572357-6cfc-45b3-8a02-ce1c1e61fc1f",
   "metadata": {},
   "outputs": [],
   "source": [
    "class Nodes:\n",
    "    def __init__(self,value):\n",
    "        self.value=value\n",
    "        self.next=None\n",
    "        self.prev=None\n",
    "        \n",
    "\n",
    "class DoublyLinkedList:\n",
    "    def __init__(self):\n",
    "        self.head=None\n",
    "        self.tail=None\n",
    "        \n",
    "    \n",
    "        \n",
    "def create_list(ob,value):\n",
    "    node=Nodes(value)\n",
    "    ob.head=node\n",
    "    ob.tail=node\n",
    "        \n",
    "\n",
    "def insert(ob,value,loc):\n",
    "    node=Nodes(value)\n",
    "    if ob.head==None:\n",
    "        \n",
    "        ob.head=node\n",
    "        ob.tail=node\n",
    "    else:\n",
    "        if loc==0:\n",
    "            ob.head.prev=node\n",
    "            temp=ob.head\n",
    "            node.next=temp\n",
    "            \n",
    "#             node.next=temp\n",
    "            ob.head=node\n",
    "            \n",
    "        elif loc==-1:\n",
    "            \n",
    "            ob.tail.next=node\n",
    "            node.prev=ob.tail\n",
    "            ob.tail=node\n",
    "        \n",
    "        else:\n",
    "            temp=ob.head\n",
    "            i=0\n",
    "            while(i<loc-1):\n",
    "                temp=temp.next\n",
    "                i += 1\n",
    "            t=temp.prev   \n",
    "            t.next=node\n",
    "            node.prev=t\n",
    "            node.next=temp\n",
    "            temp.prev=node\n",
    "                \n",
    "                \n",
    "ob1=DoublyLinkedList()\n",
    "create_list(ob1,5)\n",
    "ob1.head.value\n",
    "ob1.head.next\n",
    "ob1.head.prev\n",
    "\n",
    "\n",
    "ob1.head.next\n",
    "ob1.head.prev\n",
    "ob1.head.value\n",
    "# ob1.head.next.value\n",
    "# ob1.head.next.prev.value\n",
    "\n",
    "insert(ob1,0,0)\n",
    "insert(ob1,10,-1)\n",
    "insert(ob1,100,2)\n",
    "insert(ob1,1000,2)\n",
    "insert(ob1,10000,3)\n",
    "insert(ob1,10000,3)"
   ]
  },
  {
   "cell_type": "code",
   "execution_count": 6,
   "id": "e9ce1114-1c98-465a-9c0a-bfde41ef4e50",
   "metadata": {},
   "outputs": [],
   "source": [
    "def traversal(ob1):\n",
    "#     temp=ob1.head\n",
    "    if ob1.head==None:\n",
    "        print(\"No elements in the list!\")\n",
    "#     elif: ob1\n",
    "            \n",
    "    else:\n",
    "        print(\"The first node is: \", ob1.head)\n",
    "        print(\"The value at this node is\", ob1.head.value)\n",
    "        temp=ob1.head.next\n",
    "        while(True):\n",
    "            \n",
    "            if temp != ob1.head:\n",
    "                print(\"The next node in the list is: \", temp)\n",
    "                if temp==None:\n",
    "                    break\n",
    "                print(\"And the value of the node at given position is: \", temp.value)\n",
    "            \n",
    "            else:\n",
    "                break\n",
    "\n",
    "            \n",
    "            \n",
    "            temp=temp.next"
   ]
  },
  {
   "cell_type": "code",
   "execution_count": 7,
   "id": "7152cc40-9959-4832-b787-959f0e391121",
   "metadata": {},
   "outputs": [
    {
     "name": "stdout",
     "output_type": "stream",
     "text": [
      "The first node is:  <__main__.Nodes object at 0x0000021E7AFD96D0>\n",
      "The value at this node is 0\n",
      "The next node in the list is:  <__main__.Nodes object at 0x0000021E7AFC5A30>\n",
      "And the value of the node at given position is:  1000\n",
      "The next node in the list is:  <__main__.Nodes object at 0x0000021E7AFC5580>\n",
      "And the value of the node at given position is:  10000\n",
      "The next node in the list is:  <__main__.Nodes object at 0x0000021E7AFC5CA0>\n",
      "And the value of the node at given position is:  10000\n",
      "The next node in the list is:  <__main__.Nodes object at 0x0000021E7AFC56D0>\n",
      "And the value of the node at given position is:  100\n",
      "The next node in the list is:  <__main__.Nodes object at 0x0000021E7ACB40D0>\n",
      "And the value of the node at given position is:  5\n",
      "The next node in the list is:  <__main__.Nodes object at 0x0000021E7AFC5D30>\n",
      "And the value of the node at given position is:  10\n",
      "The next node in the list is:  None\n"
     ]
    }
   ],
   "source": [
    "traversal(ob1)"
   ]
  },
  {
   "cell_type": "code",
   "execution_count": 11,
   "id": "eccaad01-1cdb-458e-bc42-4fe46f612e4e",
   "metadata": {},
   "outputs": [],
   "source": [
    "def reverse_(ob1):\n",
    "    if ob1.head==None:\n",
    "        print(\"There is no element in this list and so we can't traverse this list!\")\n",
    "    \n",
    "    else:\n",
    "        temp= ob1.tail\n",
    "        \n",
    "        while(True):\n",
    "            if temp.prev==None:\n",
    "                print(\"Reached the end of the list!\")\n",
    "                print(\"The last element is: \",temp.value)\n",
    "                break\n",
    "            \n",
    "            else:\n",
    "                \n",
    "                print(\"The prev element in this list is: \", temp.value)\n",
    "                temp= temp.prev"
   ]
  },
  {
   "cell_type": "code",
   "execution_count": 13,
   "id": "31d70c58-a843-4274-9d45-369c6b5729e4",
   "metadata": {},
   "outputs": [
    {
     "name": "stdout",
     "output_type": "stream",
     "text": [
      "The prev element in this list is:  10\n",
      "The prev element in this list is:  5\n",
      "The prev element in this list is:  100\n",
      "The prev element in this list is:  10000\n",
      "The prev element in this list is:  10000\n",
      "The prev element in this list is:  1000\n",
      "Reached the end of the list!\n",
      "The last element is:  0\n"
     ]
    }
   ],
   "source": [
    "reverse_(ob1)"
   ]
  },
  {
   "cell_type": "code",
   "execution_count": null,
   "id": "d0c9c3a7-d30c-4952-8c6d-cce15045c741",
   "metadata": {},
   "outputs": [],
   "source": []
  }
 ],
 "metadata": {
  "kernelspec": {
   "display_name": "Python 3",
   "language": "python",
   "name": "python3"
  },
  "language_info": {
   "codemirror_mode": {
    "name": "ipython",
    "version": 3
   },
   "file_extension": ".py",
   "mimetype": "text/x-python",
   "name": "python",
   "nbconvert_exporter": "python",
   "pygments_lexer": "ipython3",
   "version": "3.8.5"
  }
 },
 "nbformat": 4,
 "nbformat_minor": 5
}
