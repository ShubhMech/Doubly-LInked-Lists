{
 "cells": [
  {
   "cell_type": "code",
   "execution_count": 60,
   "id": "d105dc54-cdc8-4d25-87ec-6043edf62874",
   "metadata": {},
   "outputs": [],
   "source": [
    "class Nodes:\n",
    "    def __init__(self,value):\n",
    "        self.value=value\n",
    "        self.next=None\n",
    "        self.prev=None\n",
    "        \n",
    "\n",
    "class DoublyLinkedList:\n",
    "    def __init__(self):\n",
    "        self.head=None\n",
    "        self.tail=None\n",
    "        \n",
    "    \n",
    "        \n",
    "    def create_list(self,value):\n",
    "        node=Nodes(value)\n",
    "        self.head=node\n",
    "        self.tail=node\n",
    "        \n",
    "        \n",
    "        \n",
    "        "
   ]
  },
  {
   "cell_type": "code",
   "execution_count": 61,
   "id": "dc212884-5dd8-4304-a6e7-d38f73e81445",
   "metadata": {},
   "outputs": [],
   "source": [
    "ob1=DoublyLinkedList()"
   ]
  },
  {
   "cell_type": "code",
   "execution_count": 62,
   "id": "dcc218f0-797a-47f4-9584-7d1c416fbbbc",
   "metadata": {},
   "outputs": [],
   "source": [
    "ob1.create_list(5)"
   ]
  },
  {
   "cell_type": "code",
   "execution_count": 63,
   "id": "fe5ec28f-12fe-43cf-a50a-052127f189fc",
   "metadata": {},
   "outputs": [
    {
     "data": {
      "text/plain": [
       "5"
      ]
     },
     "execution_count": 63,
     "metadata": {},
     "output_type": "execute_result"
    }
   ],
   "source": [
    "ob1.head.value"
   ]
  },
  {
   "cell_type": "code",
   "execution_count": 65,
   "id": "19e160b0-8c28-440a-8927-feedbaa4994e",
   "metadata": {},
   "outputs": [],
   "source": [
    "ob1.head.next"
   ]
  },
  {
   "cell_type": "code",
   "execution_count": 67,
   "id": "f2254a51-a844-4f94-b343-43095fa887e6",
   "metadata": {},
   "outputs": [],
   "source": [
    "ob1.head.prev"
   ]
  },
  {
   "cell_type": "code",
   "execution_count": null,
   "id": "b3da49c8-882f-4234-bf71-aa9957db1f7d",
   "metadata": {},
   "outputs": [],
   "source": []
  }
 ],
 "metadata": {
  "kernelspec": {
   "display_name": "Python 3",
   "language": "python",
   "name": "python3"
  },
  "language_info": {
   "codemirror_mode": {
    "name": "ipython",
    "version": 3
   },
   "file_extension": ".py",
   "mimetype": "text/x-python",
   "name": "python",
   "nbconvert_exporter": "python",
   "pygments_lexer": "ipython3",
   "version": "3.8.5"
  }
 },
 "nbformat": 4,
 "nbformat_minor": 5
}
