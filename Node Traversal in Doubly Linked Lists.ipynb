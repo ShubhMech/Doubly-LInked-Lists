{
 "cells": [
  {
   "cell_type": "code",
   "execution_count": 41,
   "id": "9d904c26-aef1-4a24-8c92-948e2ca9df1b",
   "metadata": {},
   "outputs": [],
   "source": [
    "class Nodes:\n",
    "    def __init__(self,value):\n",
    "        self.value=value\n",
    "        self.next=None\n",
    "        self.prev=None\n",
    "        \n",
    "\n",
    "class DoublyLinkedList:\n",
    "    def __init__(self):\n",
    "        self.head=None\n",
    "        self.tail=None\n",
    "        \n",
    "    \n",
    "        \n",
    "def create_list(ob,value):\n",
    "    node=Nodes(value)\n",
    "    ob.head=node\n",
    "    ob.tail=node\n",
    "        \n",
    "        "
   ]
  },
  {
   "cell_type": "code",
   "execution_count": 42,
   "id": "38e4b2aa-4abe-40cb-852d-9f9a08cfa61c",
   "metadata": {},
   "outputs": [],
   "source": [
    "def insert(ob,value,loc):\n",
    "    node=Nodes(value)\n",
    "    if ob.head==None:\n",
    "        \n",
    "        ob.head=node\n",
    "        ob.tail=node\n",
    "    else:\n",
    "        if loc==0:\n",
    "            ob.head.prev=node\n",
    "            temp=ob.head\n",
    "            node.next=temp\n",
    "            \n",
    "#             node.next=temp\n",
    "            ob.head=node\n",
    "            \n",
    "        elif loc==-1:\n",
    "            \n",
    "            ob.tail.next=node\n",
    "            node.prev=ob.tail\n",
    "            ob.tail=node\n",
    "        \n",
    "        else:\n",
    "            temp=ob.head\n",
    "            i=0\n",
    "            while(i<loc-1):\n",
    "                temp=temp.next\n",
    "                i += 1\n",
    "            t=temp.prev   \n",
    "            t.next=node\n",
    "            node.prev=t\n",
    "            node.next=temp\n",
    "            temp.prev=node\n",
    "                "
   ]
  },
  {
   "cell_type": "code",
   "execution_count": 43,
   "id": "7d92aa4d-217f-4358-a9b9-df1d7a8ae52e",
   "metadata": {},
   "outputs": [],
   "source": [
    "ob1=DoublyLinkedList()\n",
    "# create_list(ob1,5)\n",
    "# ob1.head.value\n",
    "# ob1.head.next\n",
    "# ob1.head.prev"
   ]
  },
  {
   "cell_type": "code",
   "execution_count": null,
   "id": "8fcdf930-d0b7-4b31-98a0-25d4cccff696",
   "metadata": {},
   "outputs": [],
   "source": []
  },
  {
   "cell_type": "code",
   "execution_count": 44,
   "id": "524486d1-7c8e-472c-895b-8406a5da210f",
   "metadata": {},
   "outputs": [],
   "source": [
    "insert(ob1,0,0)"
   ]
  },
  {
   "cell_type": "code",
   "execution_count": 45,
   "id": "4d4009b4-848b-4dd6-83dc-4e910be3c236",
   "metadata": {},
   "outputs": [
    {
     "data": {
      "text/plain": [
       "0"
      ]
     },
     "execution_count": 45,
     "metadata": {},
     "output_type": "execute_result"
    }
   ],
   "source": [
    "\n",
    "ob1.head.next\n",
    "ob1.head.prev\n",
    "ob1.head.value"
   ]
  },
  {
   "cell_type": "code",
   "execution_count": 46,
   "id": "6ba257d7-cefa-44a3-a569-2d69fc1f733f",
   "metadata": {},
   "outputs": [],
   "source": [
    "insert(ob1,10,-1)"
   ]
  },
  {
   "cell_type": "code",
   "execution_count": 47,
   "id": "49871516-6638-433f-9133-84e5b0e1afeb",
   "metadata": {},
   "outputs": [
    {
     "data": {
      "text/plain": [
       "0"
      ]
     },
     "execution_count": 47,
     "metadata": {},
     "output_type": "execute_result"
    }
   ],
   "source": [
    "\n",
    "ob1.head.next\n",
    "ob1.head.prev\n",
    "ob1.head.value\n",
    "ob1.head.next.value\n",
    "ob1.head.next.prev.value"
   ]
  },
  {
   "cell_type": "code",
   "execution_count": 48,
   "id": "73450748-0819-4970-a245-60a97e0d2eb3",
   "metadata": {},
   "outputs": [],
   "source": [
    "insert(ob1,100,2)"
   ]
  },
  {
   "cell_type": "code",
   "execution_count": 49,
   "id": "8df7b45a-7bf5-45db-a2e9-d5860306e2cd",
   "metadata": {},
   "outputs": [],
   "source": [
    "insert(ob1,1000,2)"
   ]
  },
  {
   "cell_type": "code",
   "execution_count": 50,
   "id": "031b38a7-4c5a-465b-ac59-ad6d4419e3fd",
   "metadata": {},
   "outputs": [],
   "source": [
    "def traversal(ob1):\n",
    "#     temp=ob1.head\n",
    "    if ob1.head==None:\n",
    "        print(\"No elements in the list!\")\n",
    "#     elif: ob1\n",
    "            \n",
    "    else:\n",
    "        print(\"The first node is: \", ob1.head)\n",
    "        print(\"The value at this node is\", ob1.head.value)\n",
    "        temp=ob1.head.next\n",
    "        while(True):\n",
    "            \n",
    "            if temp != ob1.head:\n",
    "                print(\"The next node in the list is: \", temp)\n",
    "                if temp==None:\n",
    "                    break\n",
    "                print(\"And the value of the node at given position is: \", temp.value)\n",
    "            \n",
    "            else:\n",
    "                break\n",
    "\n",
    "            \n",
    "            \n",
    "            temp=temp.next"
   ]
  },
  {
   "cell_type": "code",
   "execution_count": 51,
   "id": "c7adb32d-6c21-42f8-90c6-d655b82cb08d",
   "metadata": {},
   "outputs": [
    {
     "name": "stdout",
     "output_type": "stream",
     "text": [
      "The first node is:  <__main__.Nodes object at 0x000002517D0C9100>\n",
      "The value at this node is 0\n",
      "The next node in the list is:  <__main__.Nodes object at 0x000002517D0C1190>\n",
      "And the value of the node at given position is:  1000\n",
      "The next node in the list is:  <__main__.Nodes object at 0x000002517D0C16D0>\n",
      "And the value of the node at given position is:  100\n",
      "The next node in the list is:  <__main__.Nodes object at 0x000002517D0C1BE0>\n",
      "And the value of the node at given position is:  10\n",
      "The next node in the list is:  None\n"
     ]
    }
   ],
   "source": [
    "traversal(ob1)"
   ]
  },
  {
   "cell_type": "code",
   "execution_count": 52,
   "id": "3e1e39c4-8003-4d52-b787-3417df8dfd77",
   "metadata": {},
   "outputs": [],
   "source": [
    "insert(ob1,10000,3)"
   ]
  },
  {
   "cell_type": "code",
   "execution_count": 53,
   "id": "1ee17fb6-f020-45c7-9328-7db461826463",
   "metadata": {},
   "outputs": [
    {
     "name": "stdout",
     "output_type": "stream",
     "text": [
      "The first node is:  <__main__.Nodes object at 0x000002517D0C9100>\n",
      "The value at this node is 0\n",
      "The next node in the list is:  <__main__.Nodes object at 0x000002517D0C1190>\n",
      "And the value of the node at given position is:  1000\n",
      "The next node in the list is:  <__main__.Nodes object at 0x000002517D0C1760>\n",
      "And the value of the node at given position is:  10000\n",
      "The next node in the list is:  <__main__.Nodes object at 0x000002517D0C16D0>\n",
      "And the value of the node at given position is:  100\n",
      "The next node in the list is:  <__main__.Nodes object at 0x000002517D0C1BE0>\n",
      "And the value of the node at given position is:  10\n",
      "The next node in the list is:  None\n"
     ]
    }
   ],
   "source": [
    "traversal(ob1)"
   ]
  },
  {
   "cell_type": "code",
   "execution_count": 60,
   "id": "7154bf96-b578-458f-881e-38361442f1c7",
   "metadata": {},
   "outputs": [
    {
     "data": {
      "text/plain": [
       "0"
      ]
     },
     "execution_count": 60,
     "metadata": {},
     "output_type": "execute_result"
    }
   ],
   "source": [
    "ob1.head.next.prev.value"
   ]
  },
  {
   "cell_type": "code",
   "execution_count": null,
   "id": "83fb08fe-5fc3-4fba-a57a-1785af79a2b7",
   "metadata": {},
   "outputs": [],
   "source": []
  },
  {
   "cell_type": "code",
   "execution_count": null,
   "id": "ceeec8cb-d7fb-47f1-888d-5c7ccfcd0764",
   "metadata": {},
   "outputs": [],
   "source": []
  }
 ],
 "metadata": {
  "kernelspec": {
   "display_name": "Python 3",
   "language": "python",
   "name": "python3"
  },
  "language_info": {
   "codemirror_mode": {
    "name": "ipython",
    "version": 3
   },
   "file_extension": ".py",
   "mimetype": "text/x-python",
   "name": "python",
   "nbconvert_exporter": "python",
   "pygments_lexer": "ipython3",
   "version": "3.8.5"
  }
 },
 "nbformat": 4,
 "nbformat_minor": 5
}
