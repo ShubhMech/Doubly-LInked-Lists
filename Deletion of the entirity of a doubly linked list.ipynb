{
 "cells": [
  {
   "cell_type": "markdown",
   "id": "6d70090f-75e0-4b74-815d-8a8450fc8d5f",
   "metadata": {},
   "source": [
    "## Deleting an entire Doubly Linked List so that the garbage collector can clean it once and for all."
   ]
  },
  {
   "cell_type": "code",
   "execution_count": 1,
   "id": "42bfd04b-2c90-4033-8bb9-013f16ec3775",
   "metadata": {},
   "outputs": [],
   "source": [
    "class Nodes:\n",
    "    def __init__(self,value):\n",
    "        self.value=value\n",
    "        self.next=None\n",
    "        self.prev=None\n",
    "        \n",
    "\n",
    "class DoublyLinkedList:\n",
    "    def __init__(self):\n",
    "        self.head=None\n",
    "        self.tail=None\n",
    "        \n",
    "    \n",
    "        \n",
    "def create_list(ob,value):\n",
    "    node=Nodes(value)\n",
    "    ob.head=node\n",
    "    ob.tail=node\n",
    "        \n",
    "\n",
    "def insert(ob,value,loc):\n",
    "    node=Nodes(value)\n",
    "    if ob.head==None:\n",
    "        \n",
    "        ob.head=node\n",
    "        ob.tail=node\n",
    "    else:\n",
    "        if loc==0:\n",
    "            ob.head.prev=node\n",
    "            temp=ob.head\n",
    "            node.next=temp\n",
    "            \n",
    "#             node.next=temp\n",
    "            ob.head=node\n",
    "            \n",
    "        elif loc==-1:\n",
    "            \n",
    "            ob.tail.next=node\n",
    "            node.prev=ob.tail\n",
    "            ob.tail=node\n",
    "        \n",
    "        else:\n",
    "            temp=ob.head\n",
    "            i=0\n",
    "            while(i<loc-1):\n",
    "                temp=temp.next\n",
    "                i += 1\n",
    "            t=temp.prev   \n",
    "            t.next=node\n",
    "            node.prev=t\n",
    "            node.next=temp\n",
    "            temp.prev=node\n",
    "                \n",
    "                \n",
    "ob1=DoublyLinkedList()\n",
    "create_list(ob1,5)\n",
    "ob1.head.value\n",
    "ob1.head.next\n",
    "ob1.head.prev\n",
    "\n",
    "\n",
    "ob1.head.next\n",
    "ob1.head.prev\n",
    "ob1.head.value\n",
    "# ob1.head.next.value\n",
    "# ob1.head.next.prev.value\n",
    "\n",
    "insert(ob1,0,0)\n",
    "insert(ob1,10,-1)\n",
    "insert(ob1,100,2)\n",
    "insert(ob1,1000,2)\n",
    "insert(ob1,10000,3)\n",
    "insert(ob1,10000,3)\n",
    "insert(ob1,1111,2)"
   ]
  },
  {
   "cell_type": "code",
   "execution_count": 12,
   "id": "66eee2ee-1c87-4a2b-aa24-da2b4f51d0a1",
   "metadata": {},
   "outputs": [],
   "source": [
    "def deletion(ob):\n",
    "    if ob.head==None:\n",
    "        print(\"Can't delete a thing which doesn't exist\")\n",
    "    else:\n",
    "        temp=ob.head\n",
    "        while(True):\n",
    "            temp=temp.next\n",
    "            temp.prev=None\n",
    "            \n",
    "            if temp.next==None:\n",
    "                break\n",
    "        \n",
    "        ob.head=None\n",
    "        ob.tail=None"
   ]
  },
  {
   "cell_type": "code",
   "execution_count": 13,
   "id": "66d22dfa-3b29-47c3-bad3-ee306fd3643b",
   "metadata": {},
   "outputs": [],
   "source": [
    "deletion(ob1)"
   ]
  },
  {
   "cell_type": "code",
   "execution_count": 14,
   "id": "0ebbc151-518a-499b-8365-ab15c46c6ee7",
   "metadata": {},
   "outputs": [],
   "source": [
    "def traversal(ob1):\n",
    "#     temp=ob1.head\n",
    "    if ob1.head==None:\n",
    "        print(\"No elements in the list!\")\n",
    "#     elif: ob1\n",
    "            \n",
    "    else:\n",
    "        print(\"The first node is: \", ob1.head)\n",
    "        print(\"The value at this node is\", ob1.head.value)\n",
    "        temp=ob1.head.next\n",
    "        while(True):\n",
    "            \n",
    "            if temp != ob1.head:\n",
    "                print(\"The next node in the list is: \", temp)\n",
    "                if temp==None:\n",
    "                    break\n",
    "                print(\"And the value of the node at given position is: \", temp.value)\n",
    "            \n",
    "            else:\n",
    "                break\n",
    "\n",
    "            \n",
    "            \n",
    "            temp=temp.next\n",
    "            "
   ]
  },
  {
   "cell_type": "code",
   "execution_count": 15,
   "id": "b215e5a0-072a-4b8e-b13e-ca746e90ccc3",
   "metadata": {},
   "outputs": [
    {
     "name": "stdout",
     "output_type": "stream",
     "text": [
      "No elements in the list!\n"
     ]
    }
   ],
   "source": [
    "traversal(ob1)"
   ]
  },
  {
   "cell_type": "code",
   "execution_count": null,
   "id": "29723199-a020-49bc-9327-1b41bb5267e5",
   "metadata": {},
   "outputs": [],
   "source": []
  }
 ],
 "metadata": {
  "kernelspec": {
   "display_name": "Python 3",
   "language": "python",
   "name": "python3"
  },
  "language_info": {
   "codemirror_mode": {
    "name": "ipython",
    "version": 3
   },
   "file_extension": ".py",
   "mimetype": "text/x-python",
   "name": "python",
   "nbconvert_exporter": "python",
   "pygments_lexer": "ipython3",
   "version": "3.8.5"
  }
 },
 "nbformat": 4,
 "nbformat_minor": 5
}
